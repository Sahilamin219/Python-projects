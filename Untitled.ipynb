{
 "cells": [
  {
   "cell_type": "code",
   "execution_count": 1,
   "metadata": {},
   "outputs": [],
   "source": [
    "file=open('create.txt')\n",
    "try:\n",
    "    \n",
    "finally:\n",
    "    file.close()\n",
    "#our filel should be in csv format\n",
    "import numpy as np\n",
    "def sigmoid(z):\n",
    "    s=1/1+np.exp(-z)\n",
    "    return s\n",
    "class neuralnetwork:\n",
    "    def __init__(self,x,y):\n",
    "        self.input=x\n",
    "        self.input=y\n",
    "        self.weigths1=1\n",
    "        self.weights2=2\n",
    "    def feedforward(self):\n",
    "        self.layer1 = sigmoid(np.dot(self.input, self.weights1))\n",
    "        self.output = sigmoid(np.dot(self.layer1, self.weights2))\n",
    "        "
   ]
  },
  {
   "cell_type": "code",
   "execution_count": null,
   "metadata": {},
   "outputs": [],
   "source": []
  }
 ],
 "metadata": {
  "kernelspec": {
   "display_name": "Python 3",
   "language": "python",
   "name": "python3"
  },
  "language_info": {
   "codemirror_mode": {
    "name": "ipython",
    "version": 3
   },
   "file_extension": ".py",
   "mimetype": "text/x-python",
   "name": "python",
   "nbconvert_exporter": "python",
   "pygments_lexer": "ipython3",
   "version": "3.6.8"
  }
 },
 "nbformat": 4,
 "nbformat_minor": 2
}
